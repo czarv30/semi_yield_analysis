{
 "cells": [
  {
   "cell_type": "markdown",
   "id": "0",
   "metadata": {},
   "source": [
    "# Semiconductor Manufacturing Yield Analysis\n",
    "\n",
    "**Data set**:\n",
    "https://archive.ics.uci.edu/dataset/179/secom\n",
    "* ~ 600 features, including pass/fail yield.\n",
    "* ~ 1600 rows, indexed by a timestamp. Each timestamp corresponds to a \"production unit\" per documentation. "
   ]
  },
  {
   "cell_type": "markdown",
   "id": "1",
   "metadata": {},
   "source": [
    "## Data Prep\n",
    "Data and indeces are in two separate file. Need to stitch."
   ]
  },
  {
   "cell_type": "code",
   "execution_count": null,
   "id": "2",
   "metadata": {},
   "outputs": [],
   "source": [
    "import polars as pl\n",
    "\n",
    "# Read in the data\n",
    "# Define schema to treat all 591 columns as Float64. \n",
    "# This is necessary because polars will infer i64 on some columns, \n",
    "# probably because the first values encountered are integers \n",
    "schema = {f\"column_{i}\": pl.Float64 for i in range(591)}\n",
    "\n",
    "data = pl.read_csv(\n",
    "    source = r'data/secom.data', \n",
    "    has_header = False,\n",
    "    separator = ' ',\n",
    "    null_values = 'NaN',\n",
    "    schema_overrides = schema)\n",
    "#data.tail()\n",
    "\n",
    "# Read the indeces\n",
    "indeces = pl.read_csv(\n",
    "    source = r'data/secom_labels.data',\n",
    "    separator = ' ',\n",
    "    has_header = False,\n",
    "    new_columns = ['pass_fail','timestamp'],\n",
    "    try_parse_dates=True\n",
    ").select(['timestamp','pass_fail']).with_columns( \n",
    "    pl.when( pl.col.pass_fail == -1).then(pl.lit('p')).otherwise(pl.lit('f')).alias('pass_fail')\n",
    "        ) # pass fail encoding per documentation. \n",
    "# Select here just reorders the columns for display aesthetics\n",
    "# indeces.tail()\n",
    "\n",
    "# Will use hstack to stitch the files together as relation is implicit. \n",
    "df = indeces.hstack(data)\n",
    "df.tail()"
   ]
  },
  {
   "cell_type": "code",
   "execution_count": null,
   "id": "3",
   "metadata": {},
   "outputs": [],
   "source": [
    "# As sanity check let's count the failures\n",
    "indeces.select('pass_fail').filter( pl.col.pass_fail == 'f' ).height"
   ]
  },
  {
   "cell_type": "code",
   "execution_count": null,
   "id": "4",
   "metadata": {},
   "outputs": [],
   "source": [
    "# test change adsfadadsfads"
   ]
  },
  {
   "cell_type": "code",
   "execution_count": null,
   "id": "5",
   "metadata": {},
   "outputs": [],
   "source": []
  }
 ],
 "metadata": {
  "kernelspec": {
   "display_name": "Python 3 (ipykernel)",
   "language": "python",
   "name": "python3"
  },
  "language_info": {
   "codemirror_mode": {
    "name": "ipython",
    "version": 3
   },
   "file_extension": ".py",
   "mimetype": "text/x-python",
   "name": "python",
   "nbconvert_exporter": "python",
   "pygments_lexer": "ipython3",
   "version": "3.12.4"
  }
 },
 "nbformat": 4,
 "nbformat_minor": 5
}
