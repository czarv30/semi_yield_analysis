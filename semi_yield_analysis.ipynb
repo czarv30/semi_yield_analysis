{
 "cells": [
  {
   "cell_type": "markdown",
   "id": "0",
   "metadata": {},
   "source": [
    "# Semiconductor Manufacturing Yield Analysis\n",
    "\n",
    "## Data Description\n",
    "Source:\n",
    "https://archive.ics.uci.edu/dataset/179/secom\n",
    "\n",
    "* Data comes from semiconductor manufacturing. \n",
    "* ~ 600 **unlabeled** features, including pass/fail yield.\n",
    "* ~ 1600 rows, indexed by a timestamp. Each timestamp corresponds to a \"production unit\" per documentation.\n",
    "\n",
    "**Goals and Strategy**\n",
    "\n",
    "In this analysis we will train progressively improved random forest models to identify top yield predictors. "
   ]
  },
  {
   "cell_type": "markdown",
   "id": "1",
   "metadata": {},
   "source": [
    "## Data Preparation"
   ]
  },
  {
   "cell_type": "code",
   "execution_count": null,
   "id": "2",
   "metadata": {},
   "outputs": [],
   "source": [
    "import pandas as pd\n",
    "import polars as pl\n",
    "\n",
    "# Read in the data\n",
    "# Define schema to treat all 591 columns as Float64. \n",
    "# This is necessary because polars will infer i64 on some columns, \n",
    "# probably because the first values encountered are integers \n",
    "schema = {f\"column_{i}\": pl.Float64 for i in range(591)}\n",
    "\n",
    "data = pl.read_csv(\n",
    "    source = r'data/secom.data', \n",
    "    has_header = False,\n",
    "    separator = ' ',\n",
    "    null_values = 'NaN',\n",
    "    schema_overrides = schema)\n",
    "#data.tail()\n",
    "\n",
    "# Read the indeces\n",
    "indeces = pl.read_csv(\n",
    "    source = r'data/secom_labels.data',\n",
    "    separator = ' ',\n",
    "    has_header = False,\n",
    "    new_columns = ['pass_fail','timestamp'],\n",
    "    try_parse_dates=True\n",
    ").select(['timestamp','pass_fail'])\n",
    "# Select here just reorders the columns for display aesthetics\n",
    "# indeces.tail()\n",
    "\n",
    "# Will use hstack to stitch the files together as relation is implicit. Normally would join on explicit shared column. \n",
    "df = indeces.hstack(data)\n",
    "df.to_pandas().tail()"
   ]
  },
  {
   "cell_type": "code",
   "execution_count": null,
   "id": "3",
   "metadata": {},
   "outputs": [],
   "source": [
    "# As sanity check let's count the failure rate\n",
    "fails = indeces.select('pass_fail').filter( pl.col.pass_fail == 1 ).height\n",
    "\n",
    "fail_rate = 100*fails/indeces.height\n",
    "print(f\"The failure rate is {round(fail_rate)}%\")"
   ]
  },
  {
   "cell_type": "markdown",
   "id": "4",
   "metadata": {},
   "source": [
    "## Data Analysis\n",
    "### Random Forest, first try"
   ]
  },
  {
   "cell_type": "code",
   "execution_count": null,
   "id": "5",
   "metadata": {},
   "outputs": [],
   "source": [
    "from sklearn.ensemble import RandomForestClassifier\n",
    "from sklearn.model_selection import train_test_split\n",
    "import numpy as np\n",
    "\n",
    "X = data.to_numpy()\n",
    "y = df['pass_fail'].to_numpy()\n",
    "\n",
    "# Get feature names for importances\n",
    "feature_names = df.drop([\"pass_fail\", \"timestamp\"]).columns\n",
    "\n",
    "X_train, X_test, y_train, y_test = train_test_split(X, y, test_size=0.2, random_state=42, stratify=y)\n",
    "\n",
    "model = RandomForestClassifier(n_estimators=100, random_state=42)\n",
    "f = model.fit(X_train, y_train)"
   ]
  },
  {
   "cell_type": "markdown",
   "id": "6",
   "metadata": {},
   "source": [
    "After succesfully fitting the model we can extract the most important features."
   ]
  },
  {
   "cell_type": "code",
   "execution_count": null,
   "id": "7",
   "metadata": {},
   "outputs": [],
   "source": [
    "import pandas as pd\n",
    "importances = pd.Series(model.feature_importances_, index=feature_names)\n",
    "print('Top predictors')\n",
    "print('-----------------------')\n",
    "print(importances.sort_values(ascending=False).head(10))"
   ]
  },
  {
   "cell_type": "markdown",
   "id": "8",
   "metadata": {},
   "source": [
    "As sanity check let us check the distribution of test sets to ensure a proper proportion of failures are present."
   ]
  },
  {
   "cell_type": "code",
   "execution_count": null,
   "id": "9",
   "metadata": {},
   "outputs": [],
   "source": [
    "# Class distribution\n",
    "# Let's double check that the test and train sets are properly stratified.\n",
    "print(pd.Series(y_train).value_counts(normalize=True))\n",
    "print(pd.Series(y_test).value_counts(normalize=True))"
   ]
  },
  {
   "cell_type": "markdown",
   "id": "10",
   "metadata": {},
   "source": [
    "Now let's evaluate the model. "
   ]
  },
  {
   "cell_type": "code",
   "execution_count": null,
   "id": "11",
   "metadata": {},
   "outputs": [],
   "source": [
    "from sklearn.metrics import classification_report\n",
    "\n",
    "y_pred = model.predict(X_test)\n",
    "print( classification_report(y_test, y_pred) )"
   ]
  },
  {
   "cell_type": "markdown",
   "id": "12",
   "metadata": {},
   "source": [
    "This model is very bad. The warnings come from the fact that zero failures were correctly identified.\n",
    "* Precision (  True positive / (False positive + True positive) ) is **zero** for yield failures.\n",
    "* Recall (  True positive / (False negative + True positive) is zero as well.\n",
    "\n",
    "This means the features listed above may not be very important. Performance may improve by balancing the model training across pass/fail, to be explored next."
   ]
  },
  {
   "cell_type": "markdown",
   "id": "13",
   "metadata": {},
   "source": [
    "## Random Forest with \"balanced\" training\n",
    "Here we'll use a version of the random forest algorithm that balances the fraction of failures in the training data fed to every tree in the ensemble 50/50."
   ]
  },
  {
   "cell_type": "code",
   "execution_count": null,
   "id": "14",
   "metadata": {},
   "outputs": [],
   "source": [
    "from sklearn.impute import SimpleImputer\n",
    "from imblearn.ensemble import BalancedRandomForestClassifier\n",
    "\n",
    "# Impute missing values -- in contrast to non-balanced function, this function cannot handle NaNs. \n",
    "# Hence we will impute with median. \n",
    "imputer = SimpleImputer(strategy=\"median\")\n",
    "X_train_imputed = imputer.fit_transform(X_train)\n",
    "X_test_imputed = imputer.transform(X_test)\n",
    "\n",
    "# Train model\n",
    "model = BalancedRandomForestClassifier(n_estimators=100, random_state=42)\n",
    "model.fit(X_train_imputed, y_train)\n",
    "\n",
    "# Predict with default threshold (0.5)\n",
    "y_pred = model.predict(X_test_imputed)\n",
    "\n",
    "# Classification report\n",
    "print(\"\\nClassification Report\")\n",
    "print(classification_report(y_test, y_pred, labels=[-1, 1], target_names=[\"Pass\", \"Fail\"], zero_division=0))\n",
    "\n",
    "# Feature importances\n",
    "# This will now work because len(model.feature_importances_) == len(feature_names)\n",
    "importances = pd.Series(model.feature_importances_, index=feature_names)\n",
    "print(\"\\nTop 10 Feature Importances:\")\n",
    "print(importances.sort_values(ascending=False).head(10))"
   ]
  },
  {
   "cell_type": "markdown",
   "id": "15",
   "metadata": {},
   "source": [
    "This is a marked improvement in that the model now correctly predicts 20% of failures, up from zero. Let's explore if hyperparameter tuning can further improve the model."
   ]
  }
 ],
 "metadata": {
  "kernelspec": {
   "display_name": "Python 3 (ipykernel)",
   "language": "python",
   "name": "python3"
  },
  "language_info": {
   "codemirror_mode": {
    "name": "ipython",
    "version": 3
   },
   "file_extension": ".py",
   "mimetype": "text/x-python",
   "name": "python",
   "nbconvert_exporter": "python",
   "pygments_lexer": "ipython3",
   "version": "3.12.4"
  }
 },
 "nbformat": 4,
 "nbformat_minor": 5
}
